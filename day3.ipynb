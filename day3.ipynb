{
 "cells": [
  {
   "cell_type": "code",
   "execution_count": 2,
   "metadata": {},
   "outputs": [
    {
     "name": "stdout",
     "output_type": "stream",
     "text": [
      "eraser has the highest sold: 500000\n",
      "pencil has the lowest sold: 120000\n",
      "notebook has the highest price: 10000\n"
     ]
    }
   ],
   "source": [
    "products = ['pencil', 'eraser', 'ruler', 'pen', 'notebook']\n",
    "prices = [1000, 500, 2000, 5000, 10000]\n",
    "sold = [120, 1000, 80, 50, 30]\n",
    "\n",
    "# Find product that has the highest sold\n",
    "max_sold = prices[0] * sold[0]\n",
    "i_max = 0\n",
    "n = len(products)\n",
    "for i in range(1, n): # ~ for (i = 1; i < n; i++)\n",
    "    if prices[i] * sold[i] > max_sold:\n",
    "        max_sold = prices[i] * sold[i]  # update max_sold\n",
    "        i_max = i                       # update position of max_sold\n",
    "\n",
    "print(f'{products[i_max]} has the highest sold: {max_sold}')\n",
    "# Find product that has the lowest sold\n",
    "min_sold = prices[0] * sold[0]\n",
    "i_min = 0\n",
    "for i in range(1, n):\n",
    "    if prices[i] * sold[i] < min_sold:\n",
    "        min_sold = prices[i] * sold[i]  # update min_sold\n",
    "        i_min = i                       # update position of min_sold\n",
    "print(f'{products[i_min]} has the lowest sold: {min_sold}')\n",
    "# Find product that has the highest price\n",
    "max_price = prices[0]\n",
    "i_max = 0\n",
    "for i in range(1, n):\n",
    "    if prices[i] > max_price:\n",
    "        max_price = prices[i]\n",
    "        i_max = i\n",
    "print(f'{products[i_max]} has the highest price: {max_price}')\n",
    "# Find product that has the lowest price\n",
    "min_price = prices[0]\n",
    "i_min = 0\n",
    "for i in range(1, n):\n",
    "    if prices[i] < min_price:\n",
    "        min_price = prices[i]\n",
    "        i_min = i\n",
    "print(f'{products[i_min]} has the lowest price: {min_price}')\n",
    "# Find product that has sold the most\n",
    "\n",
    "# Find product that has sold the least"
   ]
  },
  {
   "cell_type": "code",
   "execution_count": 3,
   "metadata": {},
   "outputs": [],
   "source": [
    "products_sold = [['pencil', 1000, 120], \n",
    "                 ['eraser', 500, 1000], \n",
    "                 ['ruler', 2000, 80], \n",
    "                 ['pen', 5000, 50], \n",
    "                 ['notebook', 10000, 30]]"
   ]
  },
  {
   "cell_type": "code",
   "execution_count": 4,
   "metadata": {},
   "outputs": [
    {
     "name": "stdout",
     "output_type": "stream",
     "text": [
      "eraser has the highest sold: 500000\n"
     ]
    }
   ],
   "source": [
    "# Find product that has the highest sold\n",
    "max_sold = products_sold[0][1] * products_sold[0][2]\n",
    "i_max = 0\n",
    "n = len(products_sold)\n",
    "for i in range(1, n):\n",
    "    if products_sold[i][1] * products_sold[i][2] > max_sold:\n",
    "        max_sold = products_sold[i][1] * products_sold[i][2]\n",
    "        i_max = i\n",
    "\n",
    "print(f'{products_sold[i_max][0]} has the highest sold: {max_sold}')"
   ]
  },
  {
   "cell_type": "code",
   "execution_count": 6,
   "metadata": {},
   "outputs": [
    {
     "name": "stdout",
     "output_type": "stream",
     "text": [
      "notebook has the highest price: 10000\n",
      "notebook has the lowest sold: 30\n"
     ]
    }
   ],
   "source": [
    "# Find product that has max price\n",
    "max_price = products_sold[0][1]\n",
    "i_max = 0\n",
    "for i in range(1, n):\n",
    "    if products_sold[i][1] > max_price:\n",
    "        max_price = products_sold[i][1]\n",
    "        i_max = i\n",
    "print(f'{products_sold[i_max][0]} has the highest price: {max_price}')\n",
    "# Find produc that hals sold the least\n",
    "min_sold = products_sold[0][2]\n",
    "i_min = 0\n",
    "for i in range(1, n):\n",
    "    if products_sold[i][2] < min_sold:\n",
    "        min_sold = products_sold[i][2]\n",
    "        i_min = i\n",
    "print(f'{products_sold[i_min][0]} has sold the least: {min_sold}')"
   ]
  },
  {
   "cell_type": "code",
   "execution_count": 7,
   "metadata": {},
   "outputs": [],
   "source": [
    "import random as rd\n",
    "numbers = [[1, 2, 3, 4, 5], \n",
    "            [6, 7, 8, 9, 10], \n",
    "            [11, 12, 13, 14, 15], \n",
    "            [16, 17, 18, 19, 20], \n",
    "            [21, 22, 23, 24, 25]]"
   ]
  },
  {
   "cell_type": "code",
   "execution_count": 10,
   "metadata": {},
   "outputs": [
    {
     "name": "stdout",
     "output_type": "stream",
     "text": [
      "[[6, 7, 8, 9, 10], [11, 12, 13, 14, 15], [16, 17, 18, 19, 20]]\n",
      "[[6, 7, 8, 9, 10], [11, 12, 13, 14, 15], [16, 17, 18, 19, 20]]\n",
      "[[6, 7, 8, 9, 10], [11, 12, 13, 14, 15], [16, 17, 18, 19, 20]]\n",
      "[[6, 7, 8, 9, 10], [11, 12, 13, 14, 15], [16, 17, 18, 19, 20]]\n"
     ]
    }
   ],
   "source": [
    "# Get 3 middle rows in as many ways as you can\n",
    "# Method 1\n",
    "middle = numbers[1:4]\n",
    "print(middle)\n",
    "# Method 2\n",
    "print(numbers[1:-1])\n",
    "# Method 3\n",
    "print(numbers[-4:4])\n",
    "# Method 4\n",
    "print(numbers[-4:-1])"
   ]
  },
  {
   "cell_type": "code",
   "execution_count": 13,
   "metadata": {},
   "outputs": [
    {
     "name": "stdout",
     "output_type": "stream",
     "text": [
      "[[16, 17, 18, 19, 20], [21, 22, 23, 24, 25]]\n",
      "[[16, 17, 18, 19, 20], [21, 22, 23, 24, 25]]\n",
      "[[16, 17, 18, 19, 20], [21, 22, 23, 24, 25]]\n",
      "[[16, 17, 18, 19, 20], [21, 22, 23, 24, 25]]\n"
     ]
    }
   ],
   "source": [
    "# Get 2 last rows in as many ways as you can\n",
    "print(numbers[3:])\n",
    "print(numbers[-2:])\n",
    "print(numbers[-2:5])\n",
    "print(numbers[3:5])"
   ]
  },
  {
   "cell_type": "code",
   "execution_count": 17,
   "metadata": {},
   "outputs": [
    {
     "name": "stdout",
     "output_type": "stream",
     "text": [
      "Max of row 3: 20\n",
      "Min of row 3: 16\n",
      "Sum of row 3: 90\n"
     ]
    }
   ],
   "source": [
    "n = int(input('Enter n: '))\n",
    "print(f'Max of row {n}: {max(numbers[n])}')\n",
    "print(f'Min of row {n}: {min(numbers[n])}')\n",
    "print(f'Sum of row {n}: {sum(numbers[n])}')"
   ]
  },
  {
   "cell_type": "code",
   "execution_count": null,
   "metadata": {},
   "outputs": [],
   "source": [
    "import numpy as np\n",
    "numbers = np.array([1, 2, 3, 4, 5])\n",
    "print(numbers, type(numbers))"
   ]
  },
  {
   "cell_type": "code",
   "execution_count": null,
   "metadata": {},
   "outputs": [],
   "source": [
    "a = [1, 2.5, 'hello', True]\n",
    "b = np.array(a)\n",
    "print(a, type(a))\n",
    "print(b, type(b))"
   ]
  },
  {
   "cell_type": "code",
   "execution_count": 25,
   "metadata": {},
   "outputs": [
    {
     "name": "stdout",
     "output_type": "stream",
     "text": [
      "[1, 2, 3, 4, 5, 6, 7, 8, 9, 10]\n",
      "[ 1  2  3  4  5  6  7  8  9 10]\n",
      "[0 1 2 3 4 5 6 7 8 9]\n",
      "[ 1  3  5  7  9 11 13 15 17 19]\n",
      "[ 0  2  4  6  8 10 12 14 16 18]\n"
     ]
    }
   ],
   "source": [
    "a = list(range(1, 11))\n",
    "print(a)\n",
    "b = np.arange(1, 11)\n",
    "print(b)\n",
    "# Full syntax arange: np.arange(start, stop, step)\n",
    "print(np.arange(10))\n",
    "print(np.arange(1, 20, 2))\n",
    "print(np.arange(0, 20, 2))"
   ]
  },
  {
   "cell_type": "code",
   "execution_count": 31,
   "metadata": {},
   "outputs": [
    {
     "name": "stdout",
     "output_type": "stream",
     "text": [
      "[ 1  2  3  4  5  6  7  8  9 10]\n",
      "[0 1 2 3 4 5 6 7 8 9]\n",
      "[ 1  3  5  7  9 11 13 15 17 19]\n",
      "[ 0  2  4  6  8 10 12 14 16 18]\n"
     ]
    }
   ],
   "source": [
    "# Function linspace: np.linspace(start, stop, num, endpoint)\n",
    "print(np.linspace(1, 10, 10, dtype=int))\n",
    "print(np.linspace(0, 10, 10, endpoint=False, dtype=int))\n",
    "print(np.linspace(1, 19, 10, dtype=int))\n",
    "print(np.linspace(0, 18, 10, dtype=int))"
   ]
  },
  {
   "cell_type": "code",
   "execution_count": 34,
   "metadata": {},
   "outputs": [
    {
     "name": "stdout",
     "output_type": "stream",
     "text": [
      "[0.  0.5 1.  1.5 2.  2.5 3.  3.5 4.  4.5 5.  5.5 6.  6.5 7.  7.5 8.  8.5\n",
      " 9.  9.5]\n",
      "[0.  0.5 1.  1.5 2.  2.5 3.  3.5 4.  4.5 5.  5.5 6.  6.5 7.  7.5 8.  8.5\n",
      " 9.  9.5]\n"
     ]
    }
   ],
   "source": [
    "print(np.arange(0, 10, 0.5))\n",
    "print(np.linspace(0, 10, 20, endpoint=False))"
   ]
  },
  {
   "cell_type": "code",
   "execution_count": 38,
   "metadata": {},
   "outputs": [
    {
     "name": "stdout",
     "output_type": "stream",
     "text": [
      "[ 1  2  3  4  5  6  7  8  9 10]\n",
      "[   2    4    8   16   32   64  128  256  512 1024]\n",
      "[   2    4    8   16   32   64  128  256  512 1024]\n"
     ]
    }
   ],
   "source": [
    "# function logsapce: np.logspace(start, stop, num, endpoint, base)\n",
    "a = np.linspace(1, 10, 10, endpoint=True, dtype=int)\n",
    "b = 2**a\n",
    "print(a)\n",
    "print(b)\n",
    "print(np.logspace(1, 10, 10, endpoint=True, base=2, dtype=int))"
   ]
  },
  {
   "cell_type": "code",
   "execution_count": 40,
   "metadata": {},
   "outputs": [
    {
     "name": "stdout",
     "output_type": "stream",
     "text": [
      "[  1   3   9  27  81 243]\n",
      "[     10     100    1000   10000  100000 1000000]\n"
     ]
    }
   ],
   "source": [
    "# Generate following numbers using logsapce\n",
    "# 1 3 9 27 81 243\n",
    "print(np.logspace(0, 5, 6, base=3, endpoint=True, dtype=int))\n",
    "# 10 100 1000 10000 100000 1000000\n",
    "print(np.logspace(1, 6, 6, endpoint=True, dtype=int))"
   ]
  },
  {
   "cell_type": "code",
   "execution_count": 44,
   "metadata": {},
   "outputs": [
    {
     "name": "stdout",
     "output_type": "stream",
     "text": [
      "[0 0 0 0 0 0 0 0 0 0]\n",
      "[1 1 1 1 1 1 1 1 1 1]\n",
      "[2 2 2 2 2 2 2 2 2 2]\n"
     ]
    }
   ],
   "source": [
    "zeros = np.zeros(10,dtype=int)\n",
    "ones = np.ones(10, dtype=int)\n",
    "print(zeros)\n",
    "print(ones)\n",
    "print(ones * 2)"
   ]
  },
  {
   "cell_type": "code",
   "execution_count": 45,
   "metadata": {},
   "outputs": [
    {
     "name": "stdout",
     "output_type": "stream",
     "text": [
      "[3 4 5 6 7]\n",
      "[-1  0  1  2  3]\n",
      "[ 2  4  6  8 10]\n",
      "[0.5 1.  1.5 2.  2.5]\n",
      "[0 1 1 2 2]\n",
      "[1 0 1 0 1]\n",
      "[ 1  4  9 16 25]\n"
     ]
    }
   ],
   "source": [
    "# Array operators: +, -, *, /, //, %, **\n",
    "a = np.array([1, 2, 3, 4, 5])\n",
    "print(a + 2)\n",
    "print(a - 2)\n",
    "print(a * 2)\n",
    "print(a / 2)\n",
    "print(a // 2)\n",
    "print(a % 2)\n",
    "print(a ** 2)"
   ]
  },
  {
   "cell_type": "code",
   "execution_count": 48,
   "metadata": {},
   "outputs": [
    {
     "name": "stdout",
     "output_type": "stream",
     "text": [
      "[ 7  9 11 13 15]\n",
      "[-5 -5 -5 -5 -5]\n",
      "[ 6 14 24 36 50]\n",
      "[0.16666667 0.28571429 0.375      0.44444444 0.5       ]\n",
      "[0 0 0 0 0]\n",
      "[1 2 3 4 5]\n",
      "[      1     128    6561  262144 9765625]\n"
     ]
    }
   ],
   "source": [
    "a = np.array([1, 2, 3, 4, 5])\n",
    "b = np.array([6, 7, 8, 9, 10])\n",
    "print(a + b)\n",
    "print(a - b)\n",
    "print(a * b)\n",
    "print(a / b)\n",
    "print(a // b)\n",
    "print(a % b)\n",
    "print(a ** b)"
   ]
  },
  {
   "cell_type": "code",
   "execution_count": 54,
   "metadata": {},
   "outputs": [
    {
     "name": "stdout",
     "output_type": "stream",
     "text": [
      "[29 63 19  1 22 78 33 98 98 68]\n",
      "[1 1 1 1 0 0 1 0 0 0]\n",
      "[False False False False  True  True False  True  True  True]\n"
     ]
    }
   ],
   "source": [
    "# generate 10 random numbers in range [0, 99]\n",
    "numbers = np.random.randint(0, 100, 10)\n",
    "print(numbers)\n",
    "b = numbers % 2\n",
    "print(b)\n",
    "c = b == 0\n",
    "print(c)\n",
    "evens = numbers[c] # boolean indexing"
   ]
  },
  {
   "cell_type": "code",
   "execution_count": 56,
   "metadata": {},
   "outputs": [
    {
     "name": "stdout",
     "output_type": "stream",
     "text": [
      "[22 78 98 98 68]\n",
      "[29 63 19  1 33]\n"
     ]
    }
   ],
   "source": [
    "print(evens)\n",
    "odds = numbers[numbers % 2 == 1]\n",
    "print(odds)"
   ]
  },
  {
   "cell_type": "code",
   "execution_count": 57,
   "metadata": {},
   "outputs": [
    {
     "name": "stdout",
     "output_type": "stream",
     "text": [
      "[36 76  2 19 76 67]\n",
      "[-69 -19 -75  -4 -59 -46 -19 -63  -3 -22  -3 -41 -77 -64]\n"
     ]
    }
   ],
   "source": [
    "numbers = np.random.randint(-99, 100, 20)\n",
    "# Find all positive numbers\n",
    "print(numbers[numbers > 0])\n",
    "# Find all negative numbers\n",
    "print(numbers[numbers < 0])"
   ]
  },
  {
   "cell_type": "code",
   "execution_count": 58,
   "metadata": {},
   "outputs": [
    {
     "name": "stdout",
     "output_type": "stream",
     "text": [
      "[ 0  0  0  0 36  0  0  0 76  0  2  0 19 76  0  0 67  0  0  0]\n"
     ]
    }
   ],
   "source": [
    "numbers[numbers < 0] = 0\n",
    "print(numbers)"
   ]
  },
  {
   "cell_type": "code",
   "execution_count": 62,
   "metadata": {},
   "outputs": [
    {
     "name": "stdout",
     "output_type": "stream",
     "text": [
      "['Barrack Obama' 'Donald Trump' 'John Doe' 'Zoe Biden' 'Hillary Clinton']\n",
      "[ 59  74  78   0 150]\n"
     ]
    }
   ],
   "source": [
    "names = np.array(['Barrack Obama', 'Donald Trump', '', 'Zoe Biden', 'Hillary Clinton'])\n",
    "ages = np.array([59, 74, 78, -10, 272])\n",
    "names[names == ''] = 'John Doe'\n",
    "ages[ages < 0] = 0\n",
    "ages[ages > 150] = 150\n",
    "\n",
    "print(names)\n",
    "print(ages)"
   ]
  },
  {
   "cell_type": "code",
   "execution_count": 64,
   "metadata": {},
   "outputs": [
    {
     "name": "stdout",
     "output_type": "stream",
     "text": [
      "Min age = 0\n",
      "Max age = 150\n",
      "Longest name: Hillary Clinton\n",
      "Shortest name: John Doe\n"
     ]
    }
   ],
   "source": [
    "print(f'Min age = {min(ages)}')\n",
    "print(f'Max age = {max(ages)}')\n",
    "print(f'Longest name: {max(names, key=len)}')\n",
    "print(f'Shortest name: {min(names, key=len)}')"
   ]
  }
 ],
 "metadata": {
  "kernelspec": {
   "display_name": "Python 3",
   "language": "python",
   "name": "python3"
  },
  "language_info": {
   "codemirror_mode": {
    "name": "ipython",
    "version": 3
   },
   "file_extension": ".py",
   "mimetype": "text/x-python",
   "name": "python",
   "nbconvert_exporter": "python",
   "pygments_lexer": "ipython3",
   "version": "3.9.12"
  },
  "orig_nbformat": 4,
  "vscode": {
   "interpreter": {
    "hash": "aee8b7b246df8f9039afb4144a1f6fd8d2ca17a180786b69acc140d282b71a49"
   }
  }
 },
 "nbformat": 4,
 "nbformat_minor": 2
}
