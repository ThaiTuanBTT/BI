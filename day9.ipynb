{
 "cells": [
  {
   "cell_type": "code",
   "execution_count": 1,
   "metadata": {},
   "outputs": [
    {
     "name": "stdout",
     "output_type": "stream",
     "text": [
      "[83 12 80 21 29 44  2 22 35 98 54 97 85 84 88 42 72 63 40 22]\n"
     ]
    }
   ],
   "source": [
    "import numpy as np\n",
    "numbers = np.random.randint(1, 100, 20)\n",
    "print(numbers)"
   ]
  },
  {
   "cell_type": "code",
   "execution_count": 7,
   "metadata": {},
   "outputs": [
    {
     "name": "stdout",
     "output_type": "stream",
     "text": [
      "12 80 44 2 22 98 54 84 88 42 72 40 22 \n",
      "[12, 80, 44, 2, 22, 98, 54, 84, 88, 42, 72, 40, 22]\n",
      "[12 80 44  2 22 98 54 84 88 42 72 40 22]\n"
     ]
    }
   ],
   "source": [
    "# Print even numbers\n",
    "# C1: use for loop\n",
    "# C2: use filter\n",
    "for n in filter(lambda x: x % 2 == 0, numbers):\n",
    "    print(n, end=' ')\n",
    "print()\n",
    "# C3: use list comprehension\n",
    "evens_list = [x for x in numbers if x % 2 == 0]\n",
    "print(evens_list)\n",
    "# C4: use boolean indexing\n",
    "print(numbers[numbers % 2 == 0])"
   ]
  },
  {
   "cell_type": "code",
   "execution_count": 9,
   "metadata": {},
   "outputs": [
    {
     "name": "stdout",
     "output_type": "stream",
     "text": [
      "660\n"
     ]
    }
   ],
   "source": [
    "#C5: use generator expression\n",
    "evens = (x for x in numbers if x % 2 == 0)\n",
    "print(sum(evens))\n",
    "for n in evens:\n",
    "    print(n, end=' ')"
   ]
  },
  {
   "cell_type": "code",
   "execution_count": 6,
   "metadata": {},
   "outputs": [],
   "source": [
    "for n in evens:\n",
    "    print(n, end=' ')"
   ]
  },
  {
   "cell_type": "code",
   "execution_count": 8,
   "metadata": {},
   "outputs": [
    {
     "name": "stdout",
     "output_type": "stream",
     "text": [
      "[12, 80, 44, 2, 22, 98, 54, 84, 88, 42, 72, 40, 22]\n"
     ]
    }
   ],
   "source": [
    "print(evens_list)"
   ]
  },
  {
   "cell_type": "code",
   "execution_count": 10,
   "metadata": {},
   "outputs": [
    {
     "name": "stdout",
     "output_type": "stream",
     "text": [
      "660\n",
      "660\n"
     ]
    }
   ],
   "source": [
    "# Calculate sum of evens numbers\n",
    "print(sum(filter(lambda x: x % 2 == 0, numbers)))\n",
    "print(sum((x for x in numbers if x % 2 == 0)))"
   ]
  },
  {
   "cell_type": "code",
   "execution_count": 12,
   "metadata": {},
   "outputs": [
    {
     "name": "stdout",
     "output_type": "stream",
     "text": [
      "[-87  67 -20 -86 -71  20  28 -15 -21  82 -85  24  85 -51 -94  47 -22  66\n",
      " -74 -23]\n",
      "-15\n",
      "20\n"
     ]
    }
   ],
   "source": [
    "numbers = np.random.randint(-100, 100, 20)\n",
    "print(numbers)\n",
    "# Find max of negative numbers\n",
    "print(max((x for x in numbers if x < 0)))\n",
    "# Find min of positive numbers\n",
    "print(min((x for x in numbers if x > 0)))"
   ]
  },
  {
   "cell_type": "code",
   "execution_count": 14,
   "metadata": {},
   "outputs": [],
   "source": [
    "def evens_gen(numbers):\n",
    "    for n in numbers:\n",
    "        if n % 2 == 0:\n",
    "            yield n"
   ]
  },
  {
   "cell_type": "code",
   "execution_count": 16,
   "metadata": {},
   "outputs": [
    {
     "name": "stdout",
     "output_type": "stream",
     "text": [
      "-20 -86 20 28 82 24 -94 -22 66 -74 \n",
      "-76\n",
      "82\n"
     ]
    }
   ],
   "source": [
    "for n in evens_gen(numbers):\n",
    "    print(n, end=' ')\n",
    "print()\n",
    "print(sum(evens_gen(numbers)))\n",
    "print(max(evens_gen(numbers)))"
   ]
  },
  {
   "cell_type": "code",
   "execution_count": 17,
   "metadata": {},
   "outputs": [],
   "source": [
    "def my_filter(func, iterable):\n",
    "    for x in iterable:\n",
    "        if func(x):\n",
    "            yield x"
   ]
  },
  {
   "cell_type": "code",
   "execution_count": 18,
   "metadata": {},
   "outputs": [
    {
     "name": "stdout",
     "output_type": "stream",
     "text": [
      "-20 -86 20 28 82 24 -94 -22 66 -74 "
     ]
    }
   ],
   "source": [
    "for n in my_filter(lambda x: x % 2 == 0, numbers):\n",
    "    print(n, end=' ')"
   ]
  },
  {
   "cell_type": "code",
   "execution_count": 20,
   "metadata": {},
   "outputs": [],
   "source": [
    "def my_map(func, iterable):\n",
    "    for i in iterable:\n",
    "        yield func(i)"
   ]
  },
  {
   "cell_type": "code",
   "execution_count": 21,
   "metadata": {},
   "outputs": [
    {
     "name": "stdout",
     "output_type": "stream",
     "text": [
      "[72, 101, 108, 108, 111, 32, 80, 121, 116, 104, 111, 110]\n"
     ]
    }
   ],
   "source": [
    "# Use my_map, convert a string to a list of ASCII codes\n",
    "s = 'Hello Python'\n",
    "codes = list(my_map(ord, s))\n",
    "print(codes)"
   ]
  },
  {
   "cell_type": "code",
   "execution_count": 23,
   "metadata": {},
   "outputs": [
    {
     "name": "stdout",
     "output_type": "stream",
     "text": [
      "Hello Python\n",
      "Rovvy*Z~ryx\n",
      "Hello Python\n"
     ]
    }
   ],
   "source": [
    "# Write simple coding function, convert char to ASCII code + 10 then convert back to char\n",
    "def char_coding(c):\n",
    "    return chr(ord(c) + 10) \n",
    "# coding string s\n",
    "coded_s = ''.join(my_map(char_coding, s))\n",
    "print(s)\n",
    "print(coded_s)\n",
    "# Ex: write decoding function to convert a coded message to the original message\n",
    "def decode(s):\n",
    "    return ''.join(my_map(lambda c: chr(ord(c) - 10), s))\n",
    "\n",
    "print(decode(coded_s))"
   ]
  },
  {
   "cell_type": "code",
   "execution_count": 24,
   "metadata": {},
   "outputs": [
    {
     "name": "stdout",
     "output_type": "stream",
     "text": [
      "John 7.5 80\n",
      "Mary 8.5 90\n",
      "Jane 9.5 30\n",
      "Alice 8.5 50\n",
      "Jill 9.5 80\n"
     ]
    }
   ],
   "source": [
    "students = {'John': (7.5, 80), 'Mary': (8.5, 90), 'Peter': (6.5, 70),\n",
    "            'Jane': (9.5, 30), 'Tom': (5.5, 95), 'Alice': (8.5, 50),\n",
    "            'Bob': (5.5, 60), 'Jack': (4.5, 70), 'Jill': (9.5, 80)}\n",
    "\n",
    "# Find most active student who GPA >= 7.0 and max activity score\n",
    "for name, (gpa, activity) in students.items():\n",
    "    if gpa >= 7.0:\n",
    "        print(name, gpa, activity)"
   ]
  },
  {
   "cell_type": "code",
   "execution_count": 25,
   "metadata": {},
   "outputs": [
    {
     "name": "stdout",
     "output_type": "stream",
     "text": [
      "Most active student is Mary\n",
      "GPA = 8.5, activity = 90\n"
     ]
    }
   ],
   "source": [
    "active_students = (name for name, (gpa, activity) in students.items() if gpa >= 7.0)\n",
    "most_active = max(active_students, key=lambda name: students[name][1])\n",
    "print(f'Most active student is {most_active}')\n",
    "print(f'GPA = {students[most_active][0]}, activity = {students[most_active][1]}')"
   ]
  },
  {
   "cell_type": "code",
   "execution_count": null,
   "metadata": {},
   "outputs": [],
   "source": [
    "# Find most nerd student who has activity score <= 60 and max GPA\n",
    "nerds = (name for name, (_, activity) in students.items() if activity <= 60)\n",
    "for s in nerds:\n",
    "    print(s)\n",
    "most_nerd = max(nerds, key=lambda name: students[name][0])\n",
    "print(f'Most nerd: {most_nerd}')"
   ]
  },
  {
   "cell_type": "code",
   "execution_count": 30,
   "metadata": {},
   "outputs": [],
   "source": [
    "def nerds_gen(students):\n",
    "    for name, (_, activity) in students.items():\n",
    "        if activity <= 60:\n",
    "            yield name"
   ]
  },
  {
   "cell_type": "code",
   "execution_count": 31,
   "metadata": {},
   "outputs": [
    {
     "name": "stdout",
     "output_type": "stream",
     "text": [
      "Name: Jane, GPA: 9.5, activity: 30\n",
      "Name: Alice, GPA: 8.5, activity: 50\n",
      "Name: Bob, GPA: 5.5, activity: 60\n",
      "Most nerd: Jane, GPA: 9.5\n"
     ]
    }
   ],
   "source": [
    "for s in nerds_gen(students):\n",
    "    print(f'Name: {s}, GPA: {students[s][0]}, activity: {students[s][1]}')\n",
    "\n",
    "most_nerd = max(nerds_gen(students), key=lambda name: students[name][0])\n",
    "print(f'Most nerd: {most_nerd}, GPA: {students[most_nerd][0]}')"
   ]
  },
  {
   "cell_type": "code",
   "execution_count": 33,
   "metadata": {},
   "outputs": [],
   "source": [
    "def fibonacci(n):\n",
    "    if n <= 1:\n",
    "        return 1\n",
    "    return fibonacci(n-1) + fibonacci(n-2)"
   ]
  },
  {
   "cell_type": "code",
   "execution_count": 37,
   "metadata": {},
   "outputs": [
    {
     "name": "stdout",
     "output_type": "stream",
     "text": [
      "1 1 2 3 5 8 13 21 34 55 89 144 233 377 610 987 1597 2584 4181 6765 10946 17711 28657 46368 75025 121393 196418 317811 514229 832040 1346269 2178309 3524578 5702887 9227465 14930352 24157817 39088169 63245986 102334155 "
     ]
    }
   ],
   "source": [
    "for i in range(40):\n",
    "    print(fibonacci(i), end=' ')"
   ]
  },
  {
   "cell_type": "code",
   "execution_count": null,
   "metadata": {},
   "outputs": [],
   "source": [
    "def fib_gen(n):\n",
    "    f0, f1 = 1, 1\n",
    "    for _ in range(n):\n",
    "        yield f0\n",
    "        f0, f1 = f1, f0 + f1\n",
    "\n",
    "for f in fib_gen(100):\n",
    "    print(f, end=' ')"
   ]
  },
  {
   "cell_type": "code",
   "execution_count": null,
   "metadata": {},
   "outputs": [],
   "source": [
    "def print_fib(n):\n",
    "    f0, f1 = 1, 1\n",
    "    for _ in range(n):\n",
    "        print(f0, end=' ')\n",
    "        f0, f1 = f1, f0 + f1\n",
    "print_fib(40)"
   ]
  },
  {
   "cell_type": "code",
   "execution_count": 4,
   "metadata": {},
   "outputs": [],
   "source": [
    "def pyramid_rec(n):\n",
    "    if n == 1:\n",
    "        return 1\n",
    "    \n",
    "    return n**2 + pyramid_rec(n-1)"
   ]
  },
  {
   "cell_type": "code",
   "execution_count": 8,
   "metadata": {},
   "outputs": [
    {
     "name": "stdout",
     "output_type": "stream",
     "text": [
      "1 5 14 30 55 "
     ]
    }
   ],
   "source": [
    "for i in range(1, 6):    \n",
    "    print(pyramid_rec(i), end=' ')"
   ]
  },
  {
   "cell_type": "code",
   "execution_count": 9,
   "metadata": {},
   "outputs": [
    {
     "name": "stdout",
     "output_type": "stream",
     "text": [
      "1 5 14 30 55 "
     ]
    }
   ],
   "source": [
    "def pyramid_gen(n):\n",
    "    p = 0\n",
    "    for i in range(1, n+1):\n",
    "        p += i**2\n",
    "        yield p\n",
    "\n",
    "for p in pyramid_gen(5):\n",
    "    print(p, end=' ')"
   ]
  }
 ],
 "metadata": {
  "kernelspec": {
   "display_name": "Python 3",
   "language": "python",
   "name": "python3"
  },
  "language_info": {
   "codemirror_mode": {
    "name": "ipython",
    "version": 3
   },
   "file_extension": ".py",
   "mimetype": "text/x-python",
   "name": "python",
   "nbconvert_exporter": "python",
   "pygments_lexer": "ipython3",
   "version": "3.9.12"
  },
  "orig_nbformat": 4,
  "vscode": {
   "interpreter": {
    "hash": "aee8b7b246df8f9039afb4144a1f6fd8d2ca17a180786b69acc140d282b71a49"
   }
  }
 },
 "nbformat": 4,
 "nbformat_minor": 2
}
