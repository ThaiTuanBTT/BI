{
 "cells": [
  {
   "cell_type": "code",
   "execution_count": null,
   "metadata": {},
   "outputs": [],
   "source": [
    "rooms = {}\n",
    "rooms = {'Emma': 308, 'John': 230, 'Marry': 111}\n",
    "print(rooms)\n",
    "print(len(rooms))\n",
    "# print(rooms[0]) => error, dictionary doesn't support indexing\n",
    "print(rooms['Emma']) # => 308\n",
    "print(rooms['emma']) # error because emma doesn't exist, key is case sensitive"
   ]
  },
  {
   "cell_type": "code",
   "execution_count": 6,
   "metadata": {},
   "outputs": [
    {
     "name": "stdout",
     "output_type": "stream",
     "text": [
      "{'Emma': 308, 'John': 230, 'Marry': 111, 'Mike': 123}\n"
     ]
    }
   ],
   "source": [
    "# Dictionary operations: add new key-value pair, edit value, delete key-value pair\n",
    "rooms['Mike'] = 123\n",
    "print(rooms)"
   ]
  },
  {
   "cell_type": "code",
   "execution_count": 7,
   "metadata": {},
   "outputs": [
    {
     "name": "stdout",
     "output_type": "stream",
     "text": [
      "{'Emma': 308, 'John': 230, 'Marry': 111, 'Mike': 321}\n"
     ]
    }
   ],
   "source": [
    "rooms['Mike'] = 321\n",
    "print(rooms)"
   ]
  },
  {
   "cell_type": "code",
   "execution_count": 8,
   "metadata": {},
   "outputs": [
    {
     "name": "stdout",
     "output_type": "stream",
     "text": [
      "{'Emma': 308, 'John': 230, 'Marry': 111}\n"
     ]
    }
   ],
   "source": [
    "del rooms['Mike']\n",
    "print(rooms)"
   ]
  },
  {
   "cell_type": "code",
   "execution_count": 12,
   "metadata": {},
   "outputs": [
    {
     "name": "stdout",
     "output_type": "stream",
     "text": [
      "Guest Paul is booked in room 200\n"
     ]
    }
   ],
   "source": [
    "# A new guest arrive\n",
    "name = input('Enter guest name: ')\n",
    "room_no = int(input('Enter room number: '))\n",
    "if name in rooms:\n",
    "    print(f'Sorry, guest {name} is already registerd')\n",
    "else:\n",
    "    rooms[name] = room_no\n",
    "    print(f'Guest {name} is booked in room {room_no}')"
   ]
  },
  {
   "cell_type": "code",
   "execution_count": 13,
   "metadata": {},
   "outputs": [
    {
     "name": "stdout",
     "output_type": "stream",
     "text": [
      "{'Emma': 308, 'John': 230, 'Marry': 111, 'Paul': 200}\n"
     ]
    }
   ],
   "source": [
    "print(rooms)"
   ]
  },
  {
   "cell_type": "code",
   "execution_count": 16,
   "metadata": {},
   "outputs": [
    {
     "name": "stdout",
     "output_type": "stream",
     "text": [
      "Your current room is 111\n",
      "Guest Marry is booked in new room 100\n"
     ]
    }
   ],
   "source": [
    "# A guest wants to change to a new room\n",
    "name = input('Enter guest name: ')\n",
    "if name not in rooms:\n",
    "    print(f'Sorry, guest {name} is not registerd')\n",
    "else:\n",
    "    print('Your current room is', rooms[name])\n",
    "    new_room = int(input('Enter new room number: '))\n",
    "    rooms[name] = new_room # update the value\n",
    "    print(f'Guest {name} is booked in new room {new_room}')"
   ]
  },
  {
   "cell_type": "code",
   "execution_count": 17,
   "metadata": {},
   "outputs": [
    {
     "name": "stdout",
     "output_type": "stream",
     "text": [
      "{'Emma': 308, 'John': 230, 'Marry': 100, 'Paul': 200}\n"
     ]
    }
   ],
   "source": [
    "print(rooms)"
   ]
  },
  {
   "cell_type": "code",
   "execution_count": 19,
   "metadata": {},
   "outputs": [
    {
     "name": "stdout",
     "output_type": "stream",
     "text": [
      "Guest John is checked out\n",
      "{'Emma': 308, 'Marry': 100, 'Paul': 200}\n"
     ]
    }
   ],
   "source": [
    "# A guest wants to check out\n",
    "name = input('Enter guest name: ')\n",
    "if name not in rooms:\n",
    "    print(f'Sorry, guest {name} is not registerd')\n",
    "else:\n",
    "    del rooms[name]\n",
    "    print(f'Guest {name} is checked out')\n",
    "print(rooms)"
   ]
  }
 ],
 "metadata": {
  "kernelspec": {
   "display_name": "Python 3",
   "language": "python",
   "name": "python3"
  },
  "language_info": {
   "codemirror_mode": {
    "name": "ipython",
    "version": 3
   },
   "file_extension": ".py",
   "mimetype": "text/x-python",
   "name": "python",
   "nbconvert_exporter": "python",
   "pygments_lexer": "ipython3",
   "version": "3.9.12"
  },
  "orig_nbformat": 4,
  "vscode": {
   "interpreter": {
    "hash": "aee8b7b246df8f9039afb4144a1f6fd8d2ca17a180786b69acc140d282b71a49"
   }
  }
 },
 "nbformat": 4,
 "nbformat_minor": 2
}
