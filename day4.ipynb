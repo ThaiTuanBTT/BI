{
 "cells": [
  {
   "cell_type": "code",
   "execution_count": 2,
   "metadata": {},
   "outputs": [
    {
     "name": "stdout",
     "output_type": "stream",
     "text": [
      "[ 0.          2.65306122  7.25490196 11.8        13.79310345 20.85106383\n",
      " 17.38461538]\n"
     ]
    }
   ],
   "source": [
    "import numpy as np\n",
    "y = np.array([0., 1.3, 5. , 10.9, 18.9, 28.7, 40.]) \n",
    "t = np.array([0., 0.49, 1. , 1.5 , 2.08, 2.55, 3.2]) \n",
    "v = np.zeros(7)\n",
    "\n",
    "for i in range(1,7):\n",
    "    v[i] = (y[i] - y[i-1])/(t[i] - t[i-1])\n",
    "\n",
    "print(v)"
   ]
  },
  {
   "cell_type": "code",
   "execution_count": 3,
   "metadata": {},
   "outputs": [
    {
     "name": "stdout",
     "output_type": "stream",
     "text": [
      "[ 0.          2.65306122  7.25490196 11.8        13.79310345 20.85106383\n",
      " 17.38461538]\n"
     ]
    }
   ],
   "source": [
    "v[1:] = (y[1:] - y[:-1])/(t[1:] - t[:-1])\n",
    "print(v)"
   ]
  },
  {
   "cell_type": "code",
   "execution_count": 5,
   "metadata": {},
   "outputs": [
    {
     "name": "stdout",
     "output_type": "stream",
     "text": [
      "[1 2 3 4 5 6] (6,)\n",
      "[[1 2 3]\n",
      " [4 5 6]] (2, 3)\n"
     ]
    }
   ],
   "source": [
    "# 2D arrays\n",
    "a = np.array([1, 2, 3, 4, 5, 6])\n",
    "print(a, a.shape)\n",
    "b = np.reshape(a, (2, 3)) # Convert 1D array to 2D array 2x3\n",
    "print(b, b.shape)"
   ]
  },
  {
   "cell_type": "code",
   "execution_count": 10,
   "metadata": {},
   "outputs": [
    {
     "name": "stdout",
     "output_type": "stream",
     "text": [
      "[[0 0 0]\n",
      " [0 0 0]]\n",
      "[[0.  0.2 0.4]\n",
      " [0.6 0.8 1. ]]\n"
     ]
    }
   ],
   "source": [
    "a = np.zeros((2, 3), dtype=int)\n",
    "print(a)\n",
    "a = np.linspace(0, 1, 6) # Return 6 evenly spaced numbers over the interval [0, 1]\n",
    "b = np.reshape(a, (2, 3))\n",
    "print(b)"
   ]
  },
  {
   "cell_type": "code",
   "execution_count": 11,
   "metadata": {},
   "outputs": [
    {
     "name": "stdout",
     "output_type": "stream",
     "text": [
      "[[62 77 68 34]\n",
      " [35 47 55 40]\n",
      " [84 37 95 13]\n",
      " [40 68 54 19]]\n"
     ]
    }
   ],
   "source": [
    "a = np.random.randint(10, 100, (4, 4))\n",
    "print(a)"
   ]
  },
  {
   "cell_type": "code",
   "execution_count": 16,
   "metadata": {},
   "outputs": [
    {
     "name": "stdout",
     "output_type": "stream",
     "text": [
      "55 55\n",
      "[[35 47 55 40]\n",
      " [84 37 95 13]]\n",
      "[[77 68]\n",
      " [47 55]]\n"
     ]
    }
   ],
   "source": [
    "print(a[1][2], a[1, 2])\n",
    "print(a[1:3, :])\n",
    "print(a[:2, 1:3])"
   ]
  },
  {
   "cell_type": "code",
   "execution_count": 17,
   "metadata": {},
   "outputs": [
    {
     "name": "stdout",
     "output_type": "stream",
     "text": [
      "[[321 252 488  17 996 499]\n",
      " [632 126 900 515 894  68]\n",
      " [730 876 735 222 912  28]\n",
      " [804 697 117 449  66 259]\n",
      " [886 298 808 832 584 965]\n",
      " [449 106 771 339 477 341]]\n"
     ]
    }
   ],
   "source": [
    "a = np.random.randint(1, 1000, (6, 6))\n",
    "print(a)"
   ]
  },
  {
   "cell_type": "code",
   "execution_count": 18,
   "metadata": {},
   "outputs": [
    {
     "name": "stdout",
     "output_type": "stream",
     "text": [
      "[[  0   0   0   0   0   0]\n",
      " [632 126 900 515 894  68]\n",
      " [730 876 735 222 912  28]\n",
      " [804 697 117 449  66 259]\n",
      " [886 298 808 832 584 965]\n",
      " [449 106 771 339 477 341]]\n"
     ]
    }
   ],
   "source": [
    "a[0] = 0\n",
    "print(a)"
   ]
  },
  {
   "cell_type": "code",
   "execution_count": 19,
   "metadata": {},
   "outputs": [
    {
     "name": "stdout",
     "output_type": "stream",
     "text": [
      "[[  0   0   0   0   0   0]\n",
      " [632 126 900 515 894  68]\n",
      " [730 876 735   0   0  28]\n",
      " [804 697 117   0   0 259]\n",
      " [886 298 808 832 584 965]\n",
      " [449 106 771 339 477 341]]\n"
     ]
    }
   ],
   "source": [
    "a[2:4, 3:5] = 0\n",
    "print(a)"
   ]
  },
  {
   "cell_type": "code",
   "execution_count": 20,
   "metadata": {},
   "outputs": [
    {
     "name": "stdout",
     "output_type": "stream",
     "text": [
      "[[1 1 1 1 1 1 1 1]\n",
      " [1 0 0 0 0 0 0 1]\n",
      " [1 0 0 0 0 0 0 1]\n",
      " [1 0 0 0 0 0 0 1]\n",
      " [1 0 0 0 0 0 0 1]\n",
      " [1 0 0 0 0 0 0 1]\n",
      " [1 0 0 0 0 0 0 1]\n",
      " [1 1 1 1 1 1 1 1]]\n"
     ]
    }
   ],
   "source": [
    "# Create an 8 × 8 array with ones on all the edges and zeros everywhere else. \n",
    "a = np.ones((8, 8), dtype=int)\n",
    "a[1:-1, 1:-1] = 0\n",
    "print(a)"
   ]
  },
  {
   "cell_type": "code",
   "execution_count": 24,
   "metadata": {},
   "outputs": [
    {
     "name": "stdout",
     "output_type": "stream",
     "text": [
      "[[0 1 0 1 0 1 0 1]\n",
      " [1 0 1 0 1 0 1 0]\n",
      " [0 1 0 1 0 1 0 1]\n",
      " [1 0 1 0 1 0 1 0]\n",
      " [0 1 0 1 0 1 0 1]\n",
      " [1 0 1 0 1 0 1 0]\n",
      " [0 1 0 1 0 1 0 1]\n",
      " [1 0 1 0 1 0 1 0]]\n"
     ]
    }
   ],
   "source": [
    "# Create an 8 × 8 array of integers with a checkerboard pattern of ones and zeros. \n",
    "a = np.ones((8, 8), dtype=int)\n",
    "a[::2, ::2] = 0\n",
    "a[1::2, 1::2] = 0\n",
    "print(a)"
   ]
  },
  {
   "cell_type": "code",
   "execution_count": 28,
   "metadata": {},
   "outputs": [
    {
     "name": "stdout",
     "output_type": "stream",
     "text": [
      "[[58 35 44 24 41 86 86 48]\n",
      " [77 71 56 79 47 71 44 22]\n",
      " [88 50 66 62 21 15 19 74]\n",
      " [71 29 77 62 90 97 35 70]\n",
      " [21 44 29 75 58 77 71 61]\n",
      " [84 13 19 36 87 70 35 72]\n",
      " [61 60 50 50 20 76 47 59]\n",
      " [33 70 66 39 16 55 19 94]]\n",
      "[[-58 -35 -44  24 -41 -86 -86  48]\n",
      " [-77 -71 -56 -79 -47 -71 -44 -22]\n",
      " [-88 -50  66 -62  21  15 -19 -74]\n",
      " [-71 -29 -77 -62  90 -97 -35 -70]\n",
      " [ 21 -44 -29  75 -58 -77 -71 -61]\n",
      " [ 84 -13 -19  36  87 -70 -35  72]\n",
      " [-61  60 -50 -50 -20 -76 -47 -59]\n",
      " [ 33 -70  66  39 -16 -55 -19 -94]]\n"
     ]
    }
   ],
   "source": [
    "a = np.random.randint(10, 100, (8, 8))\n",
    "print(a)\n",
    "a[a % 3 != 0] *= -1\n",
    "print(a)"
   ]
  },
  {
   "cell_type": "code",
   "execution_count": 29,
   "metadata": {},
   "outputs": [
    {
     "name": "stdout",
     "output_type": "stream",
     "text": [
      "[[ 21 -44 -29  75]\n",
      " [ 84 -13 -19  36]\n",
      " [-61  60 -50 -50]\n",
      " [ 33 -70  66  39]]\n"
     ]
    }
   ],
   "source": [
    "# Split the matrix above into 4 submatrices 4x4\n",
    "b = a[4:, :4]\n",
    "print(b)"
   ]
  },
  {
   "cell_type": "code",
   "execution_count": 34,
   "metadata": {},
   "outputs": [
    {
     "name": "stdout",
     "output_type": "stream",
     "text": [
      "16 (4, 4) 4.875 50.94835007142037\n"
     ]
    }
   ],
   "source": [
    "print(b.size, b.shape, np.mean(b), np.std(b))"
   ]
  }
 ],
 "metadata": {
  "kernelspec": {
   "display_name": "Python 3",
   "language": "python",
   "name": "python3"
  },
  "language_info": {
   "codemirror_mode": {
    "name": "ipython",
    "version": 3
   },
   "file_extension": ".py",
   "mimetype": "text/x-python",
   "name": "python",
   "nbconvert_exporter": "python",
   "pygments_lexer": "ipython3",
   "version": "3.9.12"
  },
  "orig_nbformat": 4,
  "vscode": {
   "interpreter": {
    "hash": "aee8b7b246df8f9039afb4144a1f6fd8d2ca17a180786b69acc140d282b71a49"
   }
  }
 },
 "nbformat": 4,
 "nbformat_minor": 2
}
