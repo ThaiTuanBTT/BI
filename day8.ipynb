{
 "cells": [
  {
   "cell_type": "code",
   "execution_count": 20,
   "metadata": {},
   "outputs": [],
   "source": [
    "employees = [['John Smith', '0873783883', 1500],\n",
    "             ['Mary Simons', '0ET3783884', 2500],\n",
    "             ['', '01897882GGG', 100],\n",
    "             ['Adam Blackkkkkkkkkkkkkkkkkkkkkkkk', '09712723823', 1200],\n",
    "             ['Henry Dawnson', '0977628282', 900],\n",
    "             ['', '01872832823', 500]]"
   ]
  },
  {
   "cell_type": "code",
   "execution_count": 7,
   "metadata": {},
   "outputs": [],
   "source": [
    "def clean_employees(employees, fix_name, fix_phone, fix_salary):\n",
    "    for e in employees:\n",
    "        fix_name(e)\n",
    "        fix_phone(e)\n",
    "        fix_salary(e)"
   ]
  },
  {
   "cell_type": "code",
   "execution_count": 5,
   "metadata": {},
   "outputs": [
    {
     "name": "stdout",
     "output_type": "stream",
     "text": [
      "[['John Smith', '0873783883', 1500], ['Mary Simons', '0ET3783884', 2500], ['John Doe', '01897882GGG', 100], ['Adam Blackkkkkkkkkkkkkkkkkkkkkkkk', '09712723823', 1200], ['Henry Dawnson', '0977628282', 900], ['John Doe', '01872832823', 500]]\n",
      "[['John Smith', '0873783883', 1500], ['Mary Simons', '0ET3783884', 2500], ['John Doe', '01897882GGG', 100], ['Adam Blackkkkkkkkkkk', '09712723823', 1200], ['Henry Dawnson', '0977628282', 900], ['John Doe', '01872832823', 500]]\n"
     ]
    }
   ],
   "source": [
    "def fix_empty_name(e):\n",
    "    if e[0] == '':\n",
    "        e[0] = 'John Doe'\n",
    "def fix_nothing(e):\n",
    "    pass\n",
    "\n",
    "def fix_long_name(e):\n",
    "    if len(e[0]) > 20:\n",
    "        e[0] = e[0][:20]\n",
    "\n",
    "clean_employees(employees, fix_empty_name, fix_nothing, fix_nothing)\n",
    "print(employees)\n",
    "clean_employees(employees, fix_long_name, fix_nothing, fix_nothing)\n",
    "print(employees)"
   ]
  },
  {
   "cell_type": "code",
   "execution_count": 8,
   "metadata": {},
   "outputs": [
    {
     "name": "stdout",
     "output_type": "stream",
     "text": [
      "[['John Smith', '0873783883', 1500], ['Mary Simons', '0003783884', 2500], ['John Doe', '01897882000', 100], ['Adam Blackkkkkkkkkkk', '09712723823', 1200], ['Henry Dawnson', '0977628282', 900], ['John Doe', '01872832823', 500]]\n"
     ]
    }
   ],
   "source": [
    "def fix_phone(e):\n",
    "    phone = [c if c.isdigit() else '0' for c in e[1]]\n",
    "    e[1] = ''.join(phone)\n",
    "clean_employees(employees, fix_nothing, fix_phone, fix_nothing)\n",
    "print(employees)"
   ]
  },
  {
   "cell_type": "code",
   "execution_count": 17,
   "metadata": {},
   "outputs": [
    {
     "name": "stdout",
     "output_type": "stream",
     "text": [
      "[['John Smith', '0873783883', 1500], ['Mary Simons', '0ET3783884', 1025], ['', '01897882GGG', 1025], ['Adam Blackkkkkkkkkkkkkkkkkkkkkkkk', '09712723823', 1200], ['Henry Dawnson', '0977628282', 900], ['', '01872832823', 500]]\n"
     ]
    }
   ],
   "source": [
    "# Valid salary is in range [200, 2000]. \n",
    "# Any invalid salary should change to 200 or 2000\n",
    "def fix_salary(e):\n",
    "    if e[2] < 200:\n",
    "        e[2] = 200\n",
    "    elif e[2] > 2000:\n",
    "        e[2] = 2000\n",
    "#clean_employees(employees, fix_nothing, fix_nothing, fix_salary)\n",
    "#print(employees)\n",
    "# Valid salary is in range [200, 2000]. \n",
    "# Any invalid salary should change to mean of valid salary\n",
    "valid_salaries = [e[2] for e in employees if 200 <= e[2] <= 2000]\n",
    "mean_salary = sum(valid_salaries) // len(valid_salaries)\n",
    "def fix_salary_by_mean(e):\n",
    "    if e[2] < 200 or e[2] > 2000:\n",
    "        e[2] = mean_salary\n",
    "clean_employees(employees, fix_nothing, fix_nothing, fix_salary_by_mean)\n",
    "print(employees)\n",
    "\n"
   ]
  },
  {
   "cell_type": "code",
   "execution_count": 21,
   "metadata": {},
   "outputs": [
    {
     "name": "stdout",
     "output_type": "stream",
     "text": [
      "[['John Smith', '0873783883', 1500], ['Mary Simons', '0ET3783884', 2500], ['', '01897882GGG', 100], ['Adam Blackkkkkkkkkkkkkkkkkkkkkkkk', '09712723823', 1200], ['Henry Dawnson', '0977628282', 900], ['', '01872832823', 500]]\n",
      "[['John Smith', '0873783883', 1500], ['Mary Simons', '0003783884', 2500], ['', '01897882222', 100], ['Adam Blackkkkkkkkkkkkkkkkkkkkkkkk', '09712723823', 1200], ['Henry Dawnson', '0977628282', 900], ['', '01872832823', 500]]\n"
     ]
    }
   ],
   "source": [
    "# Phone must be digits, any non-digit should change to a previous digit (or 0 if not)\n",
    "def fix_phone_last_digit(e):\n",
    "    phone = ['0'] + [c for c in e[1]]\n",
    "    for i in range(len(phone)):\n",
    "        if not phone[i].isdigit():\n",
    "            phone[i] = phone[i-1]\n",
    "    e[1] = ''.join(phone[1:])\n",
    "\n",
    "print(employees)\n",
    "clean_employees(employees, fix_nothing, fix_phone_last_digit, fix_nothing)\n",
    "print(employees)"
   ]
  },
  {
   "cell_type": "code",
   "execution_count": 27,
   "metadata": {},
   "outputs": [
    {
     "name": "stdout",
     "output_type": "stream",
     "text": [
      "[52 47 46 91 92 37 43 29 15 29 97 62 96 56 60 74 32 13 17 62]\n",
      "13 97\n",
      "Adam Black Mike Harrigan\n",
      "John Adam Mike Harrigan\n"
     ]
    }
   ],
   "source": [
    "import numpy as np\n",
    "numbers = np.random.randint(10, 100, 20)\n",
    "print(numbers)\n",
    "print(min(numbers), max(numbers))\n",
    "names = ['John Adam', 'Mike Harrigan', 'Mary Simons', 'Adam Black', 'Henry Dawnson']\n",
    "print(min(names), max(names))\n",
    "print(min(names, key=len), max(names, key=len))"
   ]
  },
  {
   "cell_type": "code",
   "execution_count": 29,
   "metadata": {},
   "outputs": [
    {
     "name": "stdout",
     "output_type": "stream",
     "text": [
      "60 29\n"
     ]
    }
   ],
   "source": [
    "# def last_digit(a):\n",
    "#     return a % 10\n",
    "print(min(numbers, key=lambda a: a%10), max(numbers, key=lambda a: a%10))\n"
   ]
  },
  {
   "cell_type": "code",
   "execution_count": 30,
   "metadata": {},
   "outputs": [],
   "source": [
    "def my_sort(items, compare=lambda x, y: x > y):\n",
    "    for i in range(len(items) - 1):\n",
    "        for j in range(i + 1, len(items)):\n",
    "            if compare(items[i], items[j]):\n",
    "                items[i], items[j] = items[j], items[i]"
   ]
  },
  {
   "cell_type": "code",
   "execution_count": 34,
   "metadata": {},
   "outputs": [
    {
     "name": "stdout",
     "output_type": "stream",
     "text": [
      "[29 15 27 58 78 80 59 13 16 25 12 47 35 79 87 82 94 43 30 95]\n",
      "[12 13 15 16 25 27 29 30 35 43 47 58 59 78 79 80 82 87 94 95]\n",
      "[95 94 87 82 80 79 78 59 58 47 43 35 30 29 27 25 16 15 13 12]\n",
      "[80 30 82 12 13 43 94 25 15 35 95 16 27 47 87 78 58 59 79 29]\n",
      "[59 79 29 58 78 87 27 47 16 15 35 95 25 94 13 43 82 12 80 30]\n",
      "[12 30 13 15 43 25 16 80 35 27 82 29 47 58 94 59 95 78 87 79]\n"
     ]
    }
   ],
   "source": [
    "numbers = np.random.randint(10, 100, 20)\n",
    "print(numbers)\n",
    "my_sort(numbers)\n",
    "print(numbers)\n",
    "my_sort(numbers, lambda x, y: x < y)\n",
    "print(numbers)\n",
    "\n",
    "# Sort ascending by last digit\n",
    "my_sort(numbers, lambda x, y: x % 10 > y % 10)\n",
    "print(numbers)\n",
    "# Sort descending by last digit\n",
    "my_sort(numbers, lambda x, y: x % 10 < y % 10)\n",
    "print(numbers)\n",
    "# Sort ascending by sum of digits\n",
    "my_sort(numbers, lambda x, y: x%10 + x//10 > y%10 + y//10)\n",
    "print(numbers)"
   ]
  },
  {
   "cell_type": "code",
   "execution_count": 36,
   "metadata": {},
   "outputs": [
    {
     "name": "stdout",
     "output_type": "stream",
     "text": [
      "['John Adam', 'Mike Harrigan', 'Mary', 'Adam Black', 'Henry Nick Dawnson', 'Cong Tang Ton Nu Nguyen Thi Hoa', 'Paul McCartney']\n",
      "['Mary', 'John Adam', 'Adam Black', 'Mike Harrigan', 'Paul McCartney', 'Henry Nick Dawnson', 'Cong Tang Ton Nu Nguyen Thi Hoa']\n",
      "['Cong Tang Ton Nu Nguyen Thi Hoa', 'Henry Nick Dawnson', 'Paul McCartney', 'Mike Harrigan', 'Adam Black', 'John Adam', 'Mary']\n",
      "['John Adam', 'Adam Black', 'Henry Nick Dawnson', 'Mike Harrigan', 'Cong Tang Ton Nu Nguyen Thi Hoa', 'Mary', 'Paul McCartney']\n",
      "['Paul McCartney', 'Mary', 'Cong Tang Ton Nu Nguyen Thi Hoa', 'Mike Harrigan', 'Henry Nick Dawnson', 'Adam Black', 'John Adam']\n",
      "['Mary', 'Paul McCartney', 'Mike Harrigan', 'Adam Black', 'John Adam', 'Henry Nick Dawnson', 'Cong Tang Ton Nu Nguyen Thi Hoa']\n",
      "['Cong Tang Ton Nu Nguyen Thi Hoa', 'Henry Nick Dawnson', 'Adam Black', 'John Adam', 'Paul McCartney', 'Mike Harrigan', 'Mary']\n"
     ]
    }
   ],
   "source": [
    "names = ['John Adam', 'Mike Harrigan', 'Mary', 'Adam Black', 'Henry Nick Dawnson',\n",
    "         'Cong Tang Ton Nu Nguyen Thi Hoa', 'Paul McCartney']\n",
    "print(names)\n",
    "# Sort ascending by length\n",
    "my_sort(names, lambda x, y: len(x) > len(y))\n",
    "print(names)\n",
    "# Sort descending by length\n",
    "my_sort(names, lambda x, y: len(x) < len(y))\n",
    "print(names)\n",
    "# Sort ascending by last name\n",
    "my_sort(names, lambda x, y: x.split()[-1] > y.split()[-1])\n",
    "print(names)\n",
    "# Sort descending by last name\n",
    "my_sort(names, lambda x, y: x.split()[-1] < y.split()[-1])\n",
    "print(names)\n",
    "# Sort ascending by number of words\n",
    "my_sort(names, lambda x, y: len(x.split()) > len(y.split()))\n",
    "print(names)\n",
    "# Sort descending by number of words\n",
    "my_sort(names, lambda x, y: len(x.split()) < len(y.split()))\n",
    "print(names)"
   ]
  },
  {
   "cell_type": "code",
   "execution_count": null,
   "metadata": {},
   "outputs": [],
   "source": [
    "# Filter: remove all items that do not satisfy a condition, keep the rest\n",
    "# Syntax: filter(f, iterable)"
   ]
  },
  {
   "cell_type": "code",
   "execution_count": 44,
   "metadata": {},
   "outputs": [
    {
     "name": "stdout",
     "output_type": "stream",
     "text": [
      "[12 30 13 15 43 25 16 80 35 27 82 29 47 58 94 59 95 78 87 79]\n",
      "<filter object at 0x129bb52e0>\n",
      "[13, 15, 43, 25, 35, 27, 29, 47, 59, 95, 87, 79]\n"
     ]
    }
   ],
   "source": [
    "print(numbers)\n",
    "evens = filter(lambda x: x % 2 == 0, numbers)\n",
    "print(evens)\n",
    "odds = list(filter(lambda x: x % 2 == 1, numbers))\n",
    "print(odds)"
   ]
  },
  {
   "cell_type": "code",
   "execution_count": 40,
   "metadata": {},
   "outputs": [
    {
     "name": "stdout",
     "output_type": "stream",
     "text": [
      "450\n"
     ]
    }
   ],
   "source": [
    "s = 0\n",
    "for n in numbers:\n",
    "    if n % 2 == 0:\n",
    "        s += n\n",
    "print(s)"
   ]
  },
  {
   "cell_type": "code",
   "execution_count": 41,
   "metadata": {},
   "outputs": [
    {
     "name": "stdout",
     "output_type": "stream",
     "text": [
      "450\n"
     ]
    }
   ],
   "source": [
    "evens = [n for n in numbers if n % 2 == 0]\n",
    "print(sum(evens))"
   ]
  },
  {
   "cell_type": "code",
   "execution_count": 42,
   "metadata": {},
   "outputs": [
    {
     "name": "stdout",
     "output_type": "stream",
     "text": [
      "450\n"
     ]
    }
   ],
   "source": [
    "evens = filter(lambda x: x % 2 == 0, numbers)\n",
    "print(sum(evens))"
   ]
  },
  {
   "cell_type": "code",
   "execution_count": 46,
   "metadata": {},
   "outputs": [
    {
     "name": "stdout",
     "output_type": "stream",
     "text": [
      "[12 30 13 15 43 25 16 80 35 27 82 29 47 58 94 59 95 78 87 79]\n",
      "[144, 900, 169, 225, 1849, 625, 256, 6400, 1225, 729, 6724, 841, 2209, 3364, 8836, 3481, 9025, 6084, 7569, 6241]\n"
     ]
    }
   ],
   "source": [
    "# Function map: apply a function to each item of an iterable to change it\n",
    "# Syntax: map(f, iterable)\n",
    "print(numbers)\n",
    "squares = list(map(lambda x: x**2, numbers))\n",
    "print(squares)"
   ]
  },
  {
   "cell_type": "code",
   "execution_count": 54,
   "metadata": {},
   "outputs": [
    {
     "data": {
      "text/plain": [
       "[<matplotlib.lines.Line2D at 0x12d4c1280>]"
      ]
     },
     "execution_count": 54,
     "metadata": {},
     "output_type": "execute_result"
    },
    {
     "data": {
      "image/png": "[encoded data removed]",
      "text/plain": [
       "<Figure size 432x288 with 1 Axes>"
      ]
     },
     "metadata": {
      "needs_background": "light"
     },
     "output_type": "display_data"
    }
   ],
   "source": [
    "# random 100 float numbers in range [-1, 1]\n",
    "numbers = np.random.rand(100) * 2 - 1\n",
    "# plot numbers\n",
    "import matplotlib.pyplot as plt\n",
    "plt.plot(numbers)"
   ]
  },
  {
   "cell_type": "code",
   "execution_count": 53,
   "metadata": {},
   "outputs": [
    {
     "data": {
      "text/plain": [
       "[<matplotlib.lines.Line2D at 0x12d452340>]"
      ]
     },
     "execution_count": 53,
     "metadata": {},
     "output_type": "execute_result"
    },
    {
     "data": {
      "image/png": "[encoded data removed]",
      "text/plain": [
       "<Figure size 432x288 with 1 Axes>"
      ]
     },
     "metadata": {
      "needs_background": "light"
     },
     "output_type": "display_data"
    }
   ],
   "source": [
    "new_numbers = list(map(lambda x: 1 if x >= 0 else -1, numbers))\n",
    "plt.plot(new_numbers)"
   ]
  },
  {
   "cell_type": "code",
   "execution_count": 55,
   "metadata": {},
   "outputs": [
    {
     "name": "stdout",
     "output_type": "stream",
     "text": [
      "[-86 -38  -3  69  74  76  15 -30 -90 -66  86  15 -56  25 -95  99  39 -31\n",
      " -17  39]\n",
      "[86, 38, 3, 69, 74, 76, 15, 30, 90, 66, 86, 15, 56, 25, 95, 99, 39, 31, 17, 39]\n"
     ]
    }
   ],
   "source": [
    "numbers = np.random.randint(-99, 100, 20)\n",
    "# convert negative numbers to positive numbers\n",
    "positives = list(map(lambda x: -x if x < 0 else x, numbers))\n",
    "print(numbers)\n",
    "print(positives)"
   ]
  },
  {
   "cell_type": "code",
   "execution_count": 57,
   "metadata": {},
   "outputs": [
    {
     "name": "stdout",
     "output_type": "stream",
     "text": [
      "15\n",
      "-3\n"
     ]
    }
   ],
   "source": [
    "# Find min among positive numbers, max of negative numbers\n",
    "print(min(filter(lambda x: x > 0, numbers)))\n",
    "print(max(filter(lambda x: x < 0, numbers)))"
   ]
  }
 ],
 "metadata": {
  "kernelspec": {
   "display_name": "Python 3",
   "language": "python",
   "name": "python3"
  },
  "language_info": {
   "codemirror_mode": {
    "name": "ipython",
    "version": 3
   },
   "file_extension": ".py",
   "mimetype": "text/x-python",
   "name": "python",
   "nbconvert_exporter": "python",
   "pygments_lexer": "ipython3",
   "version": "3.9.12"
  },
  "orig_nbformat": 4,
  "vscode": {
   "interpreter": {
    "hash": "aee8b7b246df8f9039afb4144a1f6fd8d2ca17a180786b69acc140d282b71a49"
   }
  }
 },
 "nbformat": 4,
 "nbformat_minor": 2
}
