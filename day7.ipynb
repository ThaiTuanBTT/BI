{
 "cells": [
  {
   "cell_type": "code",
   "execution_count": 1,
   "metadata": {},
   "outputs": [],
   "source": [
    "def add(a, b):\n",
    "    return a + b"
   ]
  },
  {
   "cell_type": "code",
   "execution_count": 2,
   "metadata": {},
   "outputs": [
    {
     "name": "stdout",
     "output_type": "stream",
     "text": [
      "3\n",
      "ab\n",
      "[1, 2, 3, 4]\n",
      "4.0\n"
     ]
    }
   ],
   "source": [
    "print(add(1, 2)) # pass integers\n",
    "print(add('a', 'b')) # pass strings\n",
    "print(add([1, 2], [3, 4])) # pass lists\n",
    "print(add(1.5, 2.5)) # pass floats"
   ]
  },
  {
   "cell_type": "code",
   "execution_count": 3,
   "metadata": {},
   "outputs": [
    {
     "ename": "TypeError",
     "evalue": "can only concatenate str (not \"int\") to str",
     "output_type": "error",
     "traceback": [
      "\u001b[0;31m---------------------------------------------------------------------------\u001b[0m",
      "\u001b[0;31mTypeError\u001b[0m                                 Traceback (most recent call last)",
      "\u001b[1;32m/Volumes/GoogleDrive/My Drive/FPTU/Program - F2G new/Unit 14 - Business Intelligence/GCH1004/gch1004bi/day7.ipynb Cell 3\u001b[0m in \u001b[0;36m<cell line: 1>\u001b[0;34m()\u001b[0m\n\u001b[0;32m----> <a href='vscode-notebook-cell:/Volumes/GoogleDrive/My%20Drive/FPTU/Program%20-%20F2G%20new/Unit%2014%20-%20Business%20Intelligence/GCH1004/gch1004bi/day7.ipynb#W2sZmlsZQ%3D%3D?line=0'>1</a>\u001b[0m \u001b[39mprint\u001b[39m(add(\u001b[39m'\u001b[39;49m\u001b[39m1\u001b[39;49m\u001b[39m'\u001b[39;49m, \u001b[39m2\u001b[39;49m))\n",
      "\u001b[1;32m/Volumes/GoogleDrive/My Drive/FPTU/Program - F2G new/Unit 14 - Business Intelligence/GCH1004/gch1004bi/day7.ipynb Cell 3\u001b[0m in \u001b[0;36madd\u001b[0;34m(a, b)\u001b[0m\n\u001b[1;32m      <a href='vscode-notebook-cell:/Volumes/GoogleDrive/My%20Drive/FPTU/Program%20-%20F2G%20new/Unit%2014%20-%20Business%20Intelligence/GCH1004/gch1004bi/day7.ipynb#W2sZmlsZQ%3D%3D?line=0'>1</a>\u001b[0m \u001b[39mdef\u001b[39;00m \u001b[39madd\u001b[39m(a, b):\n\u001b[0;32m----> <a href='vscode-notebook-cell:/Volumes/GoogleDrive/My%20Drive/FPTU/Program%20-%20F2G%20new/Unit%2014%20-%20Business%20Intelligence/GCH1004/gch1004bi/day7.ipynb#W2sZmlsZQ%3D%3D?line=1'>2</a>\u001b[0m     \u001b[39mreturn\u001b[39;00m a \u001b[39m+\u001b[39;49m b\n",
      "\u001b[0;31mTypeError\u001b[0m: can only concatenate str (not \"int\") to str"
     ]
    }
   ],
   "source": [
    "print(add('1', 2))"
   ]
  },
  {
   "cell_type": "code",
   "execution_count": 6,
   "metadata": {},
   "outputs": [],
   "source": [
    "def swap(a, b):\n",
    "    a, b = b, a\n",
    "    print(f'Inside swap: a = {a}, b = {b}')"
   ]
  },
  {
   "cell_type": "code",
   "execution_count": 7,
   "metadata": {},
   "outputs": [
    {
     "name": "stdout",
     "output_type": "stream",
     "text": [
      "Inside swap: a = 20, b = 10\n",
      "Outside swap: a = 10, b = 20\n"
     ]
    }
   ],
   "source": [
    "a, b = 10, 20\n",
    "swap(a, b)\n",
    "print(f'Outside swap: a = {a}, b = {b}')\n"
   ]
  },
  {
   "cell_type": "code",
   "execution_count": 9,
   "metadata": {},
   "outputs": [],
   "source": [
    "def swap_list(a, b):\n",
    "    n = len(a)\n",
    "    for i in range(n):\n",
    "        a[i], b[i] = b[i], a[i]\n",
    "    print(f'Inside swap_list: a = {a}, b = {b}')"
   ]
  },
  {
   "cell_type": "code",
   "execution_count": 10,
   "metadata": {},
   "outputs": [
    {
     "name": "stdout",
     "output_type": "stream",
     "text": [
      "Inside swap_list: a = [4, 5, 6], b = [1, 2, 3]\n",
      "Outside swap_list: a = [4, 5, 6], b = [1, 2, 3]\n"
     ]
    }
   ],
   "source": [
    "a = [1, 2, 3]\n",
    "b = [4, 5, 6]\n",
    "swap_list(a, b)\n",
    "print(f'Outside swap_list: a = {a}, b = {b}')"
   ]
  },
  {
   "cell_type": "code",
   "execution_count": 12,
   "metadata": {},
   "outputs": [],
   "source": [
    "def double_array(a):\n",
    "    a = a * 2\n",
    "    print(f'Inside double_array: a = {a}')"
   ]
  },
  {
   "cell_type": "code",
   "execution_count": 13,
   "metadata": {},
   "outputs": [
    {
     "name": "stdout",
     "output_type": "stream",
     "text": [
      "Inside double_array: a = [2 4 6]\n",
      "Outside double_array: a = [1 2 3]\n"
     ]
    }
   ],
   "source": [
    "import numpy as np\n",
    "a = np.array([1, 2, 3])\n",
    "double_array(a)\n",
    "print(f'Outside double_array: a = {a}')"
   ]
  },
  {
   "cell_type": "code",
   "execution_count": 32,
   "metadata": {},
   "outputs": [
    {
     "name": "stdout",
     "output_type": "stream",
     "text": [
      "a-----b:"
     ]
    }
   ],
   "source": [
    "print('a', 'b', end=':', sep='-----')"
   ]
  },
  {
   "cell_type": "code",
   "execution_count": 28,
   "metadata": {},
   "outputs": [],
   "source": [
    "def my_func(a, b, n=10, s='hello'):\n",
    "    print(a, b, n, s, sep=' | ')"
   ]
  },
  {
   "cell_type": "code",
   "execution_count": 34,
   "metadata": {},
   "outputs": [
    {
     "name": "stdout",
     "output_type": "stream",
     "text": [
      "5.5 | 6.6 | 10 | hello\n",
      "5.6 | 6.6 | hello | 10\n",
      "5.6 | 6.6 | 10 | hello\n",
      "5.6 | 6.6 | 10 | hello\n"
     ]
    }
   ],
   "source": [
    "my_func(5.5, 6.6)\n",
    "my_func(5.6, 6.6, 'hello', 10)\n",
    "my_func(5.6, 6.6, s='hello', n=10)\n",
    "my_func(n=10, s='hello', a=5.6, b=6.6)"
   ]
  },
  {
   "cell_type": "code",
   "execution_count": 44,
   "metadata": {},
   "outputs": [],
   "source": [
    "def my_sum(*items):\n",
    "    print(type(items))\n",
    "    s = 0\n",
    "    for i in items:\n",
    "        s += i\n",
    "    return s"
   ]
  },
  {
   "cell_type": "code",
   "execution_count": 45,
   "metadata": {},
   "outputs": [],
   "source": [
    "def my_other_sum(items):\n",
    "    print(type(items))\n",
    "    s = 0\n",
    "    for i in items:\n",
    "        s += i\n",
    "    return s"
   ]
  },
  {
   "cell_type": "code",
   "execution_count": 48,
   "metadata": {},
   "outputs": [
    {
     "name": "stdout",
     "output_type": "stream",
     "text": [
      "<class 'tuple'>\n",
      "3\n",
      "<class 'numpy.ndarray'>\n",
      "15\n"
     ]
    }
   ],
   "source": [
    "s = my_sum(1, 2)\n",
    "print(s)\n",
    "s = my_other_sum(np.array([1, 2, 3, 4, 5]))\n",
    "print(s)"
   ]
  },
  {
   "cell_type": "code",
   "execution_count": 50,
   "metadata": {},
   "outputs": [],
   "source": [
    "def min_max(*items):\n",
    "    mi = ma = items[0]\n",
    "    for i in items:\n",
    "        if i < mi:\n",
    "            mi = i\n",
    "        if i > ma:\n",
    "            ma = i\n",
    "    return mi, ma"
   ]
  },
  {
   "cell_type": "code",
   "execution_count": 53,
   "metadata": {},
   "outputs": [
    {
     "name": "stdout",
     "output_type": "stream",
     "text": [
      "Min = 1, Max = 5\n",
      "Min = 1\n",
      "Max = 5\n",
      "(1, 5)\n"
     ]
    }
   ],
   "source": [
    "# call min_max, store the result in 2 variables\n",
    "a, b = min_max(3, 4, 1, 2, 5)\n",
    "print(f'Min = {a}, Max = {b}')\n",
    "# call min_max, store the result in a single variable\n",
    "a, _ = min_max(3, 4, 1, 2, 5)\n",
    "print(f'Min = {a}')\n",
    "_, b = min_max(3, 4, 1, 2, 5)\n",
    "print(f'Max = {b}')\n",
    "c = min_max(3, 4, 1, 2, 5)\n",
    "print(c)"
   ]
  },
  {
   "cell_type": "code",
   "execution_count": null,
   "metadata": {},
   "outputs": [],
   "source": [
    "def my_sort_asc(items):\n",
    "    for i in range(len(items) - 1):\n",
    "        for j in range(i + 1, len(items)):\n",
    "            if items[i] > items[j]:\n",
    "                items[i], items[j] = items[j], items[i]\n",
    "def my_sort_desc(items):\n",
    "    for i in range(len(items) - 1):\n",
    "        for j in range(i + 1, len(items)):\n",
    "            if items[i] < items[j]:\n",
    "                items[i], items[j] = items[j], items[i]"
   ]
  },
  {
   "cell_type": "code",
   "execution_count": null,
   "metadata": {},
   "outputs": [],
   "source": [
    "def my_sort_asc_desc(items, asc=True):\n",
    "    for i in range(len(items) - 1):\n",
    "        for j in range(i + 1, len(items)):\n",
    "            if asc:\n",
    "                if items[i] > items[j]:\n",
    "                    items[i], items[j] = items[j], items[i]\n",
    "            else:\n",
    "                if items[i] < items[j]:\n",
    "                    items[i], items[j] = items[j], items[i]"
   ]
  },
  {
   "cell_type": "code",
   "execution_count": 55,
   "metadata": {},
   "outputs": [],
   "source": [
    "def my_sort_asc(items):\n",
    "    for i in range(len(items) - 1):\n",
    "        for j in range(i + 1, len(items)):\n",
    "            if items[i] > items[j]:\n",
    "                items[i], items[j] = items[j], items[i]\n",
    "\n",
    "def greater(x, y):\n",
    "    return x > y\n",
    "\n",
    "def my_sort(items, compare=greater):\n",
    "    for i in range(len(items) - 1):\n",
    "        for j in range(i + 1, len(items)):\n",
    "            if compare(items[i], items[j]):\n",
    "                items[i], items[j] = items[j], items[i]"
   ]
  },
  {
   "cell_type": "code",
   "execution_count": 56,
   "metadata": {},
   "outputs": [
    {
     "name": "stdout",
     "output_type": "stream",
     "text": [
      "[46, 15, 50, 69, 98, 89, 95, 56, 39, 56]\n",
      "[15, 39, 46, 50, 56, 56, 69, 89, 95, 98]\n"
     ]
    }
   ],
   "source": [
    "import random as rd\n",
    "numbers = [rd.randint(1, 100) for _ in range(10)]\n",
    "print(numbers)\n",
    "my_sort(numbers)\n",
    "print(numbers)"
   ]
  },
  {
   "cell_type": "code",
   "execution_count": 57,
   "metadata": {},
   "outputs": [
    {
     "name": "stdout",
     "output_type": "stream",
     "text": [
      "[98, 95, 89, 69, 56, 56, 50, 46, 39, 15]\n"
     ]
    }
   ],
   "source": [
    "def less(x, y):\n",
    "    return x < y\n",
    "\n",
    "my_sort(numbers, less)\n",
    "print(numbers)"
   ]
  },
  {
   "cell_type": "code",
   "execution_count": 59,
   "metadata": {},
   "outputs": [
    {
     "name": "stdout",
     "output_type": "stream",
     "text": [
      "[50, 95, 15, 56, 46, 56, 98, 69, 39, 89]\n"
     ]
    }
   ],
   "source": [
    "def greater_last_digit(x, y):\n",
    "    return x % 10 > y % 10\n",
    "my_sort(numbers, greater_last_digit)\n",
    "print(numbers)"
   ]
  },
  {
   "cell_type": "code",
   "execution_count": 66,
   "metadata": {},
   "outputs": [
    {
     "name": "stdout",
     "output_type": "stream",
     "text": [
      "['Adam Smyth', 'Harry Miller', 'John Long Murray', 'Marie Jane']\n",
      "['Adam Smyth', 'Marie Jane', 'Harry Miller', 'John Long Murray']\n"
     ]
    }
   ],
   "source": [
    "def greater_len(x, y):\n",
    "    return len(x) > len(y)\n",
    "names = ['John Long Murray', 'Adam Smyth', 'Marie Jane', 'Harry Miller']\n",
    "my_sort(names)\n",
    "print(names)\n",
    "my_sort(names, greater_len)\n",
    "print(names)"
   ]
  },
  {
   "cell_type": "code",
   "execution_count": 68,
   "metadata": {},
   "outputs": [
    {
     "name": "stdout",
     "output_type": "stream",
     "text": [
      "['Adam Smyth', 'Harry Miller', 'John Long Murray', 'Marie Jane']\n",
      "['Marie Jane', 'Harry Miller', 'John Long Murray', 'Adam Smyth']\n"
     ]
    }
   ],
   "source": [
    "# Sort names by number of vowels\n",
    "def greater_nvowels(x, y):\n",
    "    return len([c for c in x if c in 'aeiou']) > len([c for c in y if c in 'aeiou'])\n",
    "my_sort(names, greater_nvowels)\n",
    "print(names)\n",
    "# Sort names by last name\n",
    "def greater_lastname(x, y):\n",
    "    return x.split()[-1] > y.split()[-1]\n",
    "my_sort(names, greater_lastname)\n",
    "print(names)"
   ]
  }
 ],
 "metadata": {
  "kernelspec": {
   "display_name": "Python 3",
   "language": "python",
   "name": "python3"
  },
  "language_info": {
   "codemirror_mode": {
    "name": "ipython",
    "version": 3
   },
   "file_extension": ".py",
   "mimetype": "text/x-python",
   "name": "python",
   "nbconvert_exporter": "python",
   "pygments_lexer": "ipython3",
   "version": "3.9.12"
  },
  "orig_nbformat": 4,
  "vscode": {
   "interpreter": {
    "hash": "aee8b7b246df8f9039afb4144a1f6fd8d2ca17a180786b69acc140d282b71a49"
   }
  }
 },
 "nbformat": 4,
 "nbformat_minor": 2
}
