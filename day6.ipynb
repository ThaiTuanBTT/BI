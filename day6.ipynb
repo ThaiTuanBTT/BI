{
 "cells": [
  {
   "cell_type": "code",
   "execution_count": 1,
   "metadata": {},
   "outputs": [
    {
     "name": "stdout",
     "output_type": "stream",
     "text": [
      "0 1 2 3 4 5 6 7 8 9 "
     ]
    }
   ],
   "source": [
    "# General syntax: for <variable> in <iterable>:\n",
    "for i in range(10):    # ~ for (int i = 0; i < 10; i++)\n",
    "    print(i, end=' ')"
   ]
  },
  {
   "cell_type": "code",
   "execution_count": null,
   "metadata": {},
   "outputs": [],
   "source": [
    "a = [1, 2, 3, 4, 5]\n",
    "for i in range(len(a)): # for (int i = 0; i < a.Count; i++)\n",
    "    print(f'a[{i}] = {a[i]}')"
   ]
  },
  {
   "cell_type": "code",
   "execution_count": null,
   "metadata": {},
   "outputs": [],
   "source": [
    "for n in a:         # foreach (int n in a)\n",
    "    print(n)"
   ]
  },
  {
   "cell_type": "code",
   "execution_count": 4,
   "metadata": {},
   "outputs": [
    {
     "name": "stdout",
     "output_type": "stream",
     "text": [
      "0: h\n",
      "1: e\n",
      "2: l\n",
      "3: l\n",
      "4: o\n",
      "5:  \n",
      "6: w\n",
      "7: o\n",
      "8: r\n",
      "9: l\n",
      "10: d\n"
     ]
    }
   ],
   "source": [
    "s = 'hello world'\n",
    "for i, c in enumerate(s):   # best of both worlds\n",
    "    print(f'{i}: {c}')"
   ]
  },
  {
   "cell_type": "code",
   "execution_count": 7,
   "metadata": {},
   "outputs": [
    {
     "name": "stdout",
     "output_type": "stream",
     "text": [
      "Emma is in room 308\n",
      "John is in room 230\n",
      "Marry is in room 111\n",
      "-----\n",
      "Emma is in room 308\n",
      "John is in room 230\n",
      "Marry is in room 111\n"
     ]
    }
   ],
   "source": [
    "rooms = {'Emma': 308, 'John': 230, 'Marry': 111}\n",
    "for guest in rooms:\n",
    "    print(f'{guest} is in room {rooms[guest]}')\n",
    "print('-----')\n",
    "for guest, room_no in rooms.items():\n",
    "    print(f'{guest} is in room {room_no}')"
   ]
  },
  {
   "cell_type": "code",
   "execution_count": 2,
   "metadata": {},
   "outputs": [
    {
     "name": "stdout",
     "output_type": "stream",
     "text": [
      "Distinction students:\n",
      "John: 8.2\n",
      "Emma: 9.1\n",
      "Jack: 9.8\n",
      "Merit students:\n",
      "Mike: 7.5\n",
      "Marry: 6.7\n",
      "Pass students:\n",
      "Peter: 5.4\n",
      "Tom: 4.1\n",
      "Alice: 5.2\n",
      "Failed students:\n",
      "Bob: 3.5\n",
      "Jane: 3.9\n",
      "Number of Distinction students: 3\n",
      "Number of Merit students: 2\n",
      "Number of Pass students: 3\n",
      "Number of Failed students: 2\n"
     ]
    }
   ],
   "source": [
    "students = {'John': 8.2, 'Mike': 7.5, 'Emma': 9.1, 'Marry': 6.7, 'Peter': 5.4, 'Tom': 4.1\n",
    ", 'Jack': 9.8, 'Bob': 3.5, 'Alice': 5.2, 'Jane': 3.9}\n",
    "# Print Distinction students who have GPA > 8.0\n",
    "n_distiontions = 0\n",
    "print('Distinction students:')\n",
    "for st, gpa in students.items():\n",
    "    if gpa > 8.0:\n",
    "        n_distiontions += 1\n",
    "        print(f'{st}: {gpa}')\n",
    "\n",
    "# Print Merit students who have GPA > 6.5 but <= 8.0\n",
    "print('Merit students:')\n",
    "n_merits = 0\n",
    "for st, gpa in students.items():\n",
    "    if 6.5 < gpa <= 8.0:\n",
    "        n_merits += 1\n",
    "        print(f'{st}: {gpa}')\n",
    "# Print Pass students who have GPA >= 4.0 but <= 6.5\n",
    "print('Pass students:')\n",
    "n_passes = 0\n",
    "for st, gpa in students.items():\n",
    "    if 4.0 <= gpa <= 6.5:\n",
    "        n_passes += 1\n",
    "        print(f'{st}: {gpa}')\n",
    "# Print Failed student who have GPA < 4.0\n",
    "print('Failed students:')\n",
    "n_fails = 0\n",
    "for st, gpa in students.items():\n",
    "    if gpa < 4.0:\n",
    "        n_fails += 1\n",
    "        print(f'{st}: {gpa}')\n",
    "\n",
    "print(f'Number of Distinction students: {n_distiontions}')\n",
    "print(f'Number of Merit students: {n_merits}')\n",
    "print(f'Number of Pass students: {n_passes}')\n",
    "print(f'Number of Failed students: {n_fails}')"
   ]
  },
  {
   "cell_type": "code",
   "execution_count": null,
   "metadata": {},
   "outputs": [],
   "source": [
    "# List comprehension: Generate 1 list based on another list\n",
    "# Syntax: [x for y in z]"
   ]
  },
  {
   "cell_type": "code",
   "execution_count": null,
   "metadata": {},
   "outputs": [],
   "source": [
    "names = ['John Lennon', 'Paul McCartney', 'George Harrison', 'Ringo Starr']\n",
    "initials = [n[0] for n in names]\n",
    "print(initials)\n",
    "lengths = [len(n) for n in names]\n",
    "print(lengths)"
   ]
  },
  {
   "cell_type": "code",
   "execution_count": 20,
   "metadata": {},
   "outputs": [
    {
     "name": "stdout",
     "output_type": "stream",
     "text": [
      "[34, 2, 45, 32, 34, -4, 81, -66, 24, 57]\n",
      "[34, 2, 45, 32, 34, 81, 24, 57]\n",
      "[-4, -66]\n"
     ]
    }
   ],
   "source": [
    "import random as rd\n",
    "numbers = [rd.randint(-100, 100) for _ in range(10)]\n",
    "print(numbers)\n",
    "positives = [n for n in numbers if n > 0] # boolean indexing numbers[numbers > 0]\n",
    "print(positives)\n",
    "negatives = [n for n in numbers if n < 0]\n",
    "print(negatives)"
   ]
  },
  {
   "cell_type": "code",
   "execution_count": 21,
   "metadata": {},
   "outputs": [
    {
     "name": "stdout",
     "output_type": "stream",
     "text": [
      "[34, 2, 45, 32, 34, -4, 81, -66, 24, 57]\n",
      "[34, 2, 32, 34, 0, 0, 24]\n"
     ]
    }
   ],
   "source": [
    "print(numbers)\n",
    "# Syntax: [x for y in z if condition]\n",
    "new_numbers = [n if n > 0 else 0 for n in numbers if n % 2 == 0]\n",
    "print(new_numbers)"
   ]
  },
  {
   "cell_type": "code",
   "execution_count": null,
   "metadata": {},
   "outputs": [],
   "source": [
    "number = []\n",
    "for i in range(10):\n",
    "    numbers.append(rd.randint(-100, 100))"
   ]
  },
  {
   "cell_type": "code",
   "execution_count": 23,
   "metadata": {},
   "outputs": [
    {
     "name": "stdout",
     "output_type": "stream",
     "text": [
      "[38, 23, 65, 31, 49, 81, 37, 38, 61, 40, 68, 65, 57, 7, 86, 63, 90, 25, 70, 56]\n",
      "[65, 81, 61, 68, 65, 57, 86, 63, 90, 70, 56]\n",
      "52.5\n",
      "[65, 81, 61, 68, 65, 57, 86, 63, 90, 70, 56]\n"
     ]
    }
   ],
   "source": [
    "numbers = [rd.randint(0, 100) for _ in range(20)]\n",
    "print(numbers)\n",
    "\n",
    "bigs50 = [n for n in numbers if n > 50]\n",
    "print(bigs50)\n",
    "\n",
    "m = sum(numbers) / len(numbers)\n",
    "print(m)\n",
    "big_mean = [n for n in numbers if n > m]\n",
    "print(big_mean)"
   ]
  },
  {
   "cell_type": "code",
   "execution_count": 25,
   "metadata": {},
   "outputs": [
    {
     "name": "stdout",
     "output_type": "stream",
     "text": [
      "[38, 38, 40, 68, 86, 90, 70, 56, 23, 65, 31, 49, 81, 37, 61, 65, 57, 7, 63, 25]\n"
     ]
    }
   ],
   "source": [
    "evens = [n for n in numbers if n % 2 == 0]\n",
    "odds = [n for n in numbers if n % 2 == 1]\n",
    "new_numbers = evens + odds\n",
    "print(new_numbers)"
   ]
  },
  {
   "cell_type": "code",
   "execution_count": 27,
   "metadata": {},
   "outputs": [
    {
     "name": "stdout",
     "output_type": "stream",
     "text": [
      "[38, 65, 49, 37, 61, 68, 57, 86, 90, 70]\n",
      "[38, 65, 49, 37, 61, 68, 57, 86, 90, 70]\n"
     ]
    }
   ],
   "source": [
    "even_index = numbers[::2]\n",
    "print(even_index)\n",
    "even_index = [numbers[i] for i in range(0, len(numbers), 2)]\n",
    "print(even_index)"
   ]
  },
  {
   "cell_type": "code",
   "execution_count": 30,
   "metadata": {},
   "outputs": [
    {
     "name": "stdout",
     "output_type": "stream",
     "text": [
      "Distintions students: [('John', 8.2), ('Emma', 9.1), ('Jack', 9.8)]\n",
      "Merit students: [('Mike', 7.5), ('Marry', 6.7)]\n",
      "Pass students: [('Peter', 5.4), ('Tom', 4.1), ('Alice', 5.2)]\n",
      "Failed students: [('Bob', 3.5), ('Jane', 3.9)]\n",
      "Number of distinctions: 3\n",
      "Number of merits: 2\n",
      "Number of passes: 3\n",
      "Number of fails: 2\n"
     ]
    }
   ],
   "source": [
    "students = {'John': 8.2, 'Mike': 7.5, 'Emma': 9.1, 'Marry': 6.7, 'Peter': 5.4, 'Tom': 4.1\n",
    ", 'Jack': 9.8, 'Bob': 3.5, 'Alice': 5.2, 'Jane': 3.9}\n",
    "\n",
    "distinctions = [(st, gpa) for st, gpa in students.items() if gpa > 8.0]\n",
    "print('Distintions students:', distinctions)\n",
    "\n",
    "merits = [(st, gpa) for st, gpa in students.items() if 6.5 < gpa <= 8.0]\n",
    "print('Merit students:', merits)\n",
    "\n",
    "passes = [(st, gpa) for st, gpa in students.items() if 4.0 <= gpa <= 6.5]\n",
    "print('Pass students:', passes)\n",
    "\n",
    "fails = [(st, gpa) for st, gpa in students.items() if gpa < 4.0]\n",
    "print('Failed students:', fails)\n",
    "\n",
    "print(f'Number of distinctions: {len(distinctions)}')\n",
    "print(f'Number of merits: {len(merits)}')\n",
    "print(f'Number of passes: {len(passes)}')\n",
    "print(f'Number of fails: {len(fails)}')"
   ]
  }
 ],
 "metadata": {
  "kernelspec": {
   "display_name": "Python 3",
   "language": "python",
   "name": "python3"
  },
  "language_info": {
   "codemirror_mode": {
    "name": "ipython",
    "version": 3
   },
   "file_extension": ".py",
   "mimetype": "text/x-python",
   "name": "python",
   "nbconvert_exporter": "python",
   "pygments_lexer": "ipython3",
   "version": "3.9.12"
  },
  "orig_nbformat": 4,
  "vscode": {
   "interpreter": {
    "hash": "aee8b7b246df8f9039afb4144a1f6fd8d2ca17a180786b69acc140d282b71a49"
   }
  }
 },
 "nbformat": 4,
 "nbformat_minor": 2
}
